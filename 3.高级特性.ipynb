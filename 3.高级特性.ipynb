{
 "cells": [
  {
   "cell_type": "markdown",
   "metadata": {},
   "source": [
    "## python复习3：高级特征\n",
    "1. 切片\n",
    "2. 迭代\n",
    "3. 列表生成式\n",
    "4. 生成器\n",
    "5. 迭代式"
   ]
  },
  {
   "cell_type": "markdown",
   "metadata": {},
   "source": [
    "## 核心思想：1行代码能实现的功能，决不写5行代码。请始终牢记，代码越少，开发效率越高"
   ]
  },
  {
   "cell_type": "markdown",
   "metadata": {},
   "source": [
    "### 1. 切片"
   ]
  },
  {
   "cell_type": "markdown",
   "metadata": {},
   "source": [
    "练习：构造一个1, 3, 5, 7, ..., 99的列表"
   ]
  },
  {
   "cell_type": "code",
   "execution_count": 22,
   "metadata": {},
   "outputs": [],
   "source": [
    "l = list(range(1,100,2))"
   ]
  },
  {
   "cell_type": "code",
   "execution_count": 32,
   "metadata": {},
   "outputs": [
    {
     "data": {
      "text/plain": [
       "([3, 5, 7, 9, 11, 13, 15, 17, 19],\n",
       " [1, 5, 9, 13, 17],\n",
       " [81, 83, 85, 87, 89, 91, 93, 95, 97, 99])"
      ]
     },
     "execution_count": 32,
     "metadata": {},
     "output_type": "execute_result"
    }
   ],
   "source": [
    "l[1:10],l[:10:2],l[-10:]"
   ]
  },
  {
   "cell_type": "markdown",
   "metadata": {},
   "source": [
    "对这种经常取指定索引范围的操作，用循环十分繁琐，因此，Python提供了切片（Slice）操作符，能大大简化这种操作  \n",
    "L[0:3] 左闭右开，左边开始，取到3-1个索引  \n",
    "L[::2] 第三个参数，用作step"
   ]
  },
  {
   "cell_type": "code",
   "execution_count": 89,
   "metadata": {},
   "outputs": [
    {
     "name": "stdout",
     "output_type": "stream",
     "text": [
      "测试成功!\n"
     ]
    }
   ],
   "source": [
    "# def trim(s):\n",
    "#     if not len(s):\n",
    "#         return s\n",
    "#     a = len(s)\n",
    "#     b = None\n",
    "#     for i in range(len(s)):\n",
    "#         if s[i] != ' ':\n",
    "#             a = i\n",
    "#             break\n",
    "#     for i in range(1,len(s)):\n",
    "#         if s[-i] != ' ':\n",
    "#             b = -i+1\n",
    "#             break\n",
    "#     if b == 0 :\n",
    "#         b = None\n",
    "#     return s[a:b]\n",
    "\n",
    "def trim(s):\n",
    "    if not len(s):\n",
    "        return s\n",
    "    while s[:1] == ' ':\n",
    "        s = s[1:]\n",
    "        #print('>',s,'<')\n",
    "    while s[-1:] == ' ':\n",
    "        s = s[:-1]\n",
    "        #print('>',s,'<')\n",
    "    return s\n",
    "\n",
    "# 测试:\n",
    "if trim('hello  ') != 'hello':\n",
    "    print('测试失败!')\n",
    "elif trim('  hello') != 'hello':\n",
    "    print('测试失败!')\n",
    "elif trim('  hello  ') != 'hello':\n",
    "    print('测试失败!')\n",
    "elif trim('  hello  world  ') != 'hello  world':\n",
    "    print('测试失败!')\n",
    "elif trim('') != '':\n",
    "    print('测试失败!')\n",
    "elif trim('    ') != '':\n",
    "    print('测试失败!')\n",
    "else:\n",
    "    print('测试成功!')"
   ]
  },
  {
   "cell_type": "markdown",
   "metadata": {},
   "source": [
    "### 注意 l[-1:], 与l[:1] 的使用，直接用l[0], 和 l[-1] 会有索引溢出的风险"
   ]
  },
  {
   "cell_type": "code",
   "execution_count": 74,
   "metadata": {},
   "outputs": [
    {
     "data": {
      "text/plain": [
       "(0, str)"
      ]
     },
     "execution_count": 74,
     "metadata": {},
     "output_type": "execute_result"
    }
   ],
   "source": [
    "l = ''\n",
    "len(l[-1:]),type(l[-1:])"
   ]
  },
  {
   "cell_type": "code",
   "execution_count": 41,
   "metadata": {},
   "outputs": [
    {
     "data": {
      "text/plain": [
       "[9, 8, 7, 6, 5, 4, 3, 2, 1, 0]"
      ]
     },
     "execution_count": 41,
     "metadata": {},
     "output_type": "execute_result"
    }
   ],
   "source": [
    "x = [x for x in range(10)]\n",
    "x[::-1]"
   ]
  },
  {
   "cell_type": "markdown",
   "metadata": {},
   "source": [
    "### 2. 迭代\n",
    "给定一个list或tuple，我们可以通过for循环来遍历这个list或tuple，这种遍历我们称为迭代（Iteration）  \n",
    "\n",
    "可迭代的对象：__dict__ ， __str__  \n",
    "如何判断一个对象是可迭代对象呢？方法是通过collections模块的Iterable类型判断  "
   ]
  },
  {
   "cell_type": "code",
   "execution_count": 93,
   "metadata": {},
   "outputs": [
    {
     "name": "stdout",
     "output_type": "stream",
     "text": [
      "\"abc\" is iterable: True\n",
      "[1,2,3] is iterable: True\n",
      "123 is iterable: False\n"
     ]
    }
   ],
   "source": [
    "from collections import Iterable\n",
    "print('\"abc\" is iterable:',isinstance('abc',Iterable))\n",
    "print('[1,2,3] is iterable:',isinstance([1,2,3],Iterable))\n",
    "print('123 is iterable:',isinstance(123,Iterable))"
   ]
  },
  {
   "cell_type": "markdown",
   "metadata": {},
   "source": [
    "把一个list变成 索引-元素对的形式，__enumerate()__"
   ]
  },
  {
   "cell_type": "markdown",
   "metadata": {},
   "source": [
    "### 练习\n",
    "请使用迭代查找一个list中最小和最大值，并返回一个tuple："
   ]
  },
  {
   "cell_type": "code",
   "execution_count": 117,
   "metadata": {},
   "outputs": [
    {
     "name": "stdout",
     "output_type": "stream",
     "text": [
      "测试成功!\n"
     ]
    }
   ],
   "source": [
    "# def findMinAndMax(L):\n",
    "#     if not L:\n",
    "#         return None,None\n",
    "#     max_value = min_value = L[0]\n",
    "#     for _, value in enumerate(L):\n",
    "#         if value > max_value:\n",
    "#             max_value = value\n",
    "#         if value < min_value:\n",
    "#             min_value = value\n",
    "#     return min_value,max_value\n",
    "\n",
    "def findMinAndMax(L):\n",
    "    if L:\n",
    "        L.sort()\n",
    "        return L[:1][0],L[-1:][0]\n",
    "    else:\n",
    "        return None,None\n",
    "\n",
    "# 测试\n",
    "if findMinAndMax([]) != (None, None):\n",
    "    print('测试失败!')\n",
    "elif findMinAndMax([7]) != (7, 7):\n",
    "    print('测试失败!')\n",
    "elif findMinAndMax([7, 1]) != (1, 7):\n",
    "    print('测试失败!')\n",
    "elif findMinAndMax([7, 1, 3, 9, 5]) != (1, 9):\n",
    "    print('测试失败!')\n",
    "else:\n",
    "    print('测试成功!')"
   ]
  },
  {
   "cell_type": "code",
   "execution_count": 120,
   "metadata": {},
   "outputs": [
    {
     "name": "stdout",
     "output_type": "stream",
     "text": [
      "1\n",
      "2\n"
     ]
    }
   ],
   "source": [
    "for x in [1,2]:\n",
    "    print(x)"
   ]
  },
  {
   "cell_type": "markdown",
   "metadata": {},
   "source": [
    "### 3. 列表生成式\n",
    "[] 里面加 for 循环  \n",
    "1. 可以多个变量一起for循环  \n",
    "2. 可以内置判断语句 if"
   ]
  },
  {
   "cell_type": "code",
   "execution_count": 36,
   "metadata": {},
   "outputs": [
    {
     "data": {
      "text/plain": [
       "[0, 1, 4, 9, 16, 25, 36, 49, 64, 81]"
      ]
     },
     "execution_count": 36,
     "metadata": {},
     "output_type": "execute_result"
    }
   ],
   "source": [
    "[x*x for x in range(10)]"
   ]
  },
  {
   "cell_type": "code",
   "execution_count": 38,
   "metadata": {},
   "outputs": [
    {
     "data": {
      "text/plain": [
       "[10, 20, 11, 21, 12, 22]"
      ]
     },
     "execution_count": 38,
     "metadata": {},
     "output_type": "execute_result"
    }
   ],
   "source": [
    "[ m+n for m in range(0,3) for n in range(10,30,10)]"
   ]
  },
  {
   "cell_type": "code",
   "execution_count": 39,
   "metadata": {},
   "outputs": [
    {
     "data": {
      "text/plain": [
       "[0, 5, 10, 15, 20, 25, 30, 35, 40, 45, 50, 55, 60, 65, 70, 75, 80, 85, 90, 95]"
      ]
     },
     "execution_count": 39,
     "metadata": {},
     "output_type": "execute_result"
    }
   ],
   "source": [
    "[x for x in range(100) if x %5 == 0]"
   ]
  },
  {
   "cell_type": "markdown",
   "metadata": {},
   "source": [
    "### 4. 生成器\n",
    "与列表生成式只差了符号[] -->()  \n",
    "__按某种规则在循环的过程中不断推算出后续的元素__\n",
    "  \n",
    "两个重要的符号:  \n",
    "__next()__: 生成下一个元素  \n",
    "__yield__ : 在 __生成器函数__中，执行yield即生成并返回一个元素，并等待下一次调用生成器"
   ]
  },
  {
   "cell_type": "markdown",
   "metadata": {},
   "source": [
    "### 练习\n",
    "杨辉三角定义如下：\n",
    "\n",
    "          1\n",
    "         / \\\n",
    "        1   1\n",
    "       / \\ / \\\n",
    "      1   2   1\n",
    "     / \\ / \\ / \\\n",
    "    1   3   3   1  \n",
    "   / \\ / \\ / \\ / \\  \n",
    "  1   4   6   4   1  \n",
    " / \\ / \\ / \\ / \\ / \\  \n",
    "1   5   10  10  5   1  \n",
    "把每一行看做一个list，试写一个generator，不断输出下一行的list："
   ]
  },
  {
   "cell_type": "code",
   "execution_count": 24,
   "metadata": {},
   "outputs": [
    {
     "name": "stdout",
     "output_type": "stream",
     "text": [
      "[1]\n",
      "[1, 1]\n",
      "[1, 2, 1]\n",
      "[1, 3, 3, 1]\n",
      "[1, 4, 6, 4, 1]\n",
      "[1, 5, 10, 10, 5, 1]\n",
      "[1, 6, 15, 20, 15, 6, 1]\n",
      "[1, 7, 21, 35, 35, 21, 7, 1]\n",
      "[1, 8, 28, 56, 70, 56, 28, 8, 1]\n",
      "[1, 9, 36, 84, 126, 126, 84, 36, 9, 1]\n",
      "测试通过!\n"
     ]
    }
   ],
   "source": [
    "def triangles():\n",
    "    n,a = 1, [1]\n",
    "    while True :\n",
    "        yield a\n",
    "#         n += 1\n",
    "#         b = []\n",
    "#         for i in range(n):\n",
    "#             if i == 0 or i == n-1:\n",
    "#                 b.append(a[i-1]) \n",
    "#             else:\n",
    "#                 b.append(a[i-1] + a[i])\n",
    "#         a = b\n",
    "        # 思想还是for的想法, 看了别人的回答-考虑用列表生成式\n",
    "        a = [a[i]+a[i+1] for i in range(len(a)-1)]\n",
    "        a.insert(0,1)\n",
    "        a.append(1)\n",
    "    return \"done\"\n",
    "# 期待输出:\n",
    "# [1]\n",
    "# [1, 1]\n",
    "# [1, 2, 1]\n",
    "# [1, 3, 3, 1]\n",
    "# [1, 4, 6, 4, 1]\n",
    "# [1, 5, 10, 10, 5, 1]\n",
    "# [1, 6, 15, 20, 15, 6, 1]\n",
    "# [1, 7, 21, 35, 35, 21, 7, 1]\n",
    "# [1, 8, 28, 56, 70, 56, 28, 8, 1]\n",
    "# [1, 9, 36, 84, 126, 126, 84, 36, 9, 1]\n",
    "n = 0\n",
    "results = []\n",
    "for t in triangles():\n",
    "    print(t)\n",
    "    results.append(t)\n",
    "    n = n + 1\n",
    "    if n == 10:\n",
    "        break\n",
    "if results == [\n",
    "    [1],\n",
    "    [1, 1],\n",
    "    [1, 2, 1],\n",
    "    [1, 3, 3, 1],\n",
    "    [1, 4, 6, 4, 1],\n",
    "    [1, 5, 10, 10, 5, 1],\n",
    "    [1, 6, 15, 20, 15, 6, 1],\n",
    "    [1, 7, 21, 35, 35, 21, 7, 1],\n",
    "    [1, 8, 28, 56, 70, 56, 28, 8, 1],\n",
    "    [1, 9, 36, 84, 126, 126, 84, 36, 9, 1]\n",
    "]:\n",
    "    print('测试通过!')\n",
    "else:\n",
    "    print('测试失败!')"
   ]
  },
  {
   "cell_type": "markdown",
   "metadata": {},
   "source": [
    "###  5. 迭代器\n",
    "__可迭代对象___有两类： 可用 \n",
    "1. 集合数据类型， 如list, tuple, dict, set, str\n",
    "2. 生成器\n",
    "\n",
    "```python  \n",
    "from collections import Iterable, Iterator\n",
    "   if isinstance(x,Iterable)\n",
    "```\n",
    "生成器都是Iterator对象，但list、dict、str虽然是Iterable，却不是Iterator"
   ]
  },
  {
   "cell_type": "code",
   "execution_count": 29,
   "metadata": {},
   "outputs": [
    {
     "name": "stdout",
     "output_type": "stream",
     "text": [
      "yeah\n"
     ]
    }
   ],
   "source": [
    "from collections import Iterable\n",
    "\n",
    "x = range(9)\n",
    "if isinstance(x,Iterable):\n",
    "    print('yeah') "
   ]
  },
  {
   "cell_type": "code",
   "execution_count": 34,
   "metadata": {},
   "outputs": [],
   "source": [
    "it = iter([1,2,3,4,5])"
   ]
  },
  {
   "cell_type": "code",
   "execution_count": 35,
   "metadata": {},
   "outputs": [
    {
     "data": {
      "text/plain": [
       "(<list_iterator at 0x241c3570eb8>, list_iterator)"
      ]
     },
     "execution_count": 35,
     "metadata": {},
     "output_type": "execute_result"
    }
   ],
   "source": [
    "it,type(it)"
   ]
  },
  {
   "cell_type": "code",
   "execution_count": null,
   "metadata": {},
   "outputs": [],
   "source": []
  }
 ],
 "metadata": {
  "kernelspec": {
   "display_name": "Python 3",
   "language": "python",
   "name": "python3"
  },
  "language_info": {
   "codemirror_mode": {
    "name": "ipython",
    "version": 3
   },
   "file_extension": ".py",
   "mimetype": "text/x-python",
   "name": "python",
   "nbconvert_exporter": "python",
   "pygments_lexer": "ipython3",
   "version": "3.7.3"
  }
 },
 "nbformat": 4,
 "nbformat_minor": 2
}
