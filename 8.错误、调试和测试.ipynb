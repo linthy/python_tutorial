{
 "cells": [
  {
   "cell_type": "markdown",
   "metadata": {},
   "source": [
    "## 8.错误、调试和测试\n",
    "错误（error），由于人为编写或外界干扰使得程序无法正常运行。  \n",
    "调试，跟踪程序的执行，查看变量值是否正确。  \n",
    "测试，确保程序输出符合我们编写的结果。\n",
    "\n",
    "1. 错误处理\n",
    "2. 调试"
   ]
  },
  {
   "cell_type": "markdown",
   "metadata": {},
   "source": [
    "### 1. 错误处理\n",
    "返回错误码，如 -1. 很容易混淆。\n",
    "Python 内置的错误处理机制  \n",
    "__try ..execpt .. finally__   \n",
    "\n",
    "__raise__"
   ]
  },
  {
   "cell_type": "code",
   "execution_count": 12,
   "metadata": {},
   "outputs": [
    {
     "name": "stdout",
     "output_type": "stream",
     "text": [
      "try..\n",
      "Error: division by zero\n",
      "End\n"
     ]
    }
   ],
   "source": [
    "try:\n",
    "    print('try..')\n",
    "    r = 10 / 0\n",
    "    print('value: %d'%r)\n",
    "    \n",
    "except ZeroDivisionError  as e:\n",
    "    print('Error:',e)\n",
    "    \n",
    "except TypeError as e:\n",
    "    print('Error:',e)\n",
    "    \n",
    "else:\n",
    "    print('No error!')\n",
    "    \n",
    "finally:\n",
    "    print('End')\n",
    "    "
   ]
  },
  {
   "cell_type": "markdown",
   "metadata": {},
   "source": [
    "可以看到，捕获异常后，程序并没有终止。  \n",
    "同样是出错，但程序打印完错误信息后会继续执行，并正常退出"
   ]
  },
  {
   "cell_type": "markdown",
   "metadata": {},
   "source": [
    "### 调用栈\n",
    "通过调用栈检测异常\n",
    "```python\n",
    "Traceback (most recent call last):\n",
    "  File \"err.py\", line 11, in <module>\n",
    "    main()\n",
    "  File \"err.py\", line 9, in main\n",
    "    bar('0')\n",
    "  File \"err.py\", line 6, in bar\n",
    "    return foo(s) * 2\n",
    "  File \"err.py\", line 3, in foo\n",
    "    return 10 / int(s)\n",
    "ZeroDivisionError: division by zero\n",
    "```\n",
    "可以清楚分析到，问题出在err.py的第三行，除以0了"
   ]
  },
  {
   "cell_type": "markdown",
   "metadata": {},
   "source": [
    "### 记录错误 \n",
    "调用 logging函数"
   ]
  },
  {
   "cell_type": "markdown",
   "metadata": {},
   "source": [
    "### 抛出错误\n",
    "__raise__ 指令  \n",
    "Python的内置函数会抛出很多类型的错误，我们自己编写的函数也可以抛出错误。"
   ]
  },
  {
   "cell_type": "code",
   "execution_count": 13,
   "metadata": {
    "collapsed": true
   },
   "outputs": [
    {
     "ename": "FooError",
     "evalue": "invalid value: 0",
     "output_type": "error",
     "traceback": [
      "\u001b[1;31m---------------------------------------------------------------------------\u001b[0m",
      "\u001b[1;31mFooError\u001b[0m                                  Traceback (most recent call last)",
      "\u001b[1;32m<ipython-input-13-3f05b1bcaa98>\u001b[0m in \u001b[0;36m<module>\u001b[1;34m\u001b[0m\n\u001b[0;32m      9\u001b[0m     \u001b[1;32mreturn\u001b[0m \u001b[1;36m10\u001b[0m \u001b[1;33m/\u001b[0m \u001b[0mn\u001b[0m\u001b[1;33m\u001b[0m\u001b[1;33m\u001b[0m\u001b[0m\n\u001b[0;32m     10\u001b[0m \u001b[1;33m\u001b[0m\u001b[0m\n\u001b[1;32m---> 11\u001b[1;33m \u001b[0mfoo\u001b[0m\u001b[1;33m(\u001b[0m\u001b[1;34m'0'\u001b[0m\u001b[1;33m)\u001b[0m\u001b[1;33m\u001b[0m\u001b[1;33m\u001b[0m\u001b[0m\n\u001b[0m",
      "\u001b[1;32m<ipython-input-13-3f05b1bcaa98>\u001b[0m in \u001b[0;36mfoo\u001b[1;34m(s)\u001b[0m\n\u001b[0;32m      6\u001b[0m     \u001b[0mn\u001b[0m \u001b[1;33m=\u001b[0m \u001b[0mint\u001b[0m\u001b[1;33m(\u001b[0m\u001b[0ms\u001b[0m\u001b[1;33m)\u001b[0m\u001b[1;33m\u001b[0m\u001b[1;33m\u001b[0m\u001b[0m\n\u001b[0;32m      7\u001b[0m     \u001b[1;32mif\u001b[0m \u001b[0mn\u001b[0m\u001b[1;33m==\u001b[0m\u001b[1;36m0\u001b[0m\u001b[1;33m:\u001b[0m\u001b[1;33m\u001b[0m\u001b[1;33m\u001b[0m\u001b[0m\n\u001b[1;32m----> 8\u001b[1;33m         \u001b[1;32mraise\u001b[0m \u001b[0mFooError\u001b[0m\u001b[1;33m(\u001b[0m\u001b[1;34m'invalid value: %s'\u001b[0m \u001b[1;33m%\u001b[0m \u001b[0ms\u001b[0m\u001b[1;33m)\u001b[0m\u001b[1;33m\u001b[0m\u001b[1;33m\u001b[0m\u001b[0m\n\u001b[0m\u001b[0;32m      9\u001b[0m     \u001b[1;32mreturn\u001b[0m \u001b[1;36m10\u001b[0m \u001b[1;33m/\u001b[0m \u001b[0mn\u001b[0m\u001b[1;33m\u001b[0m\u001b[1;33m\u001b[0m\u001b[0m\n\u001b[0;32m     10\u001b[0m \u001b[1;33m\u001b[0m\u001b[0m\n",
      "\u001b[1;31mFooError\u001b[0m: invalid value: 0"
     ]
    }
   ],
   "source": [
    "# err_raise.py\n",
    "class FooError(ValueError):\n",
    "    pass\n",
    "\n",
    "def foo(s):\n",
    "    n = int(s)\n",
    "    if n==0:\n",
    "        raise FooError('invalid value: %s' % s)\n",
    "    return 10 / n\n",
    "\n",
    "foo('0')"
   ]
  },
  {
   "cell_type": "code",
   "execution_count": 16,
   "metadata": {},
   "outputs": [
    {
     "name": "stdout",
     "output_type": "stream",
     "text": [
      "ValueError!\n",
      "I got this Error, invalid value: 0\n"
     ]
    }
   ],
   "source": [
    "# err_reraise.py\n",
    "\n",
    "def foo(s):\n",
    "    n = int(s)\n",
    "    if n==0:\n",
    "        raise ValueError('invalid value: %s' % s)\n",
    "    return 10 / n\n",
    "\n",
    "def bar():\n",
    "    try:\n",
    "        foo('0')\n",
    "    except ValueError as e:\n",
    "        print('ValueError!')\n",
    "        raise\n",
    "try:\n",
    "    bar()\n",
    "\n",
    "except ValueError as e:\n",
    "    print('I got this Error,',e)"
   ]
  },
  {
   "cell_type": "markdown",
   "metadata": {},
   "source": [
    "在bar()函数中，我们明明已经捕获了错误，但是，打印一个ValueError!后，又把错误通过raise语句抛出去了，这不有病么？\n",
    "\n",
    "其实这种错误处理方式不但没病，而且相当常见。捕获错误目的只是记录一下，便于后续追踪。\n",
    "\n",
    "由于当前函数不知道应该怎么处理该错误，所以，最恰当的方式是继续往上抛，让顶层调用者去处理。"
   ]
  },
  {
   "cell_type": "markdown",
   "metadata": {},
   "source": [
    "### 练习\n",
    "运行下面的代码，根据异常信息进行分析，定位出错误源头，并修复："
   ]
  },
  {
   "cell_type": "code",
   "execution_count": 41,
   "metadata": {},
   "outputs": [
    {
     "name": "stdout",
     "output_type": "stream",
     "text": [
      "100 + 200 + 345 = 645\n",
      "99 + 88 + 7.6 = 194.6\n",
      "Error: could not convert string to float: 'a'\n",
      "Transfer 'a' to zero\n",
      "99 + 88 + a = 187\n"
     ]
    }
   ],
   "source": [
    "from functools import reduce\n",
    "\n",
    "def str2num(s):\n",
    "    try:\n",
    "        return int(s)\n",
    "    except ValueError:\n",
    "        try:\n",
    "            return float(s)\n",
    "        except ValueError as e:\n",
    "            print(\"Error:\",e)\n",
    "            print('Transfer %r to zero'%s)\n",
    "            return 0\n",
    "            \n",
    "    \n",
    "def calc(exp):\n",
    "    ss = exp.split('+')\n",
    "    ns = map(str2num, ss)\n",
    "    return reduce(lambda acc, x: acc + x, ns)\n",
    "\n",
    "def main():\n",
    "    r = calc('100 + 200 + 345')\n",
    "    print('100 + 200 + 345 =', r)\n",
    "    r = calc('99 + 88 + 7.6')\n",
    "    print('99 + 88 + 7.6 =', r)\n",
    "    r = calc('99 + 88 +a')\n",
    "    print('99 + 88 + a =', r)\n",
    "\n",
    "main()"
   ]
  },
  {
   "cell_type": "markdown",
   "metadata": {},
   "source": [
    "### 2. 调试\n",
    "1. 无脑 print()\n",
    "2. 断言 assert\n",
    ">相当于判断，assert A,B；判断A，不正确就输出B.  \n",
    "3. 日志 logging() 效果表示不出来\n",
    "4. 命令端的调试 -pdb\n",
    "\n",
    "\n"
   ]
  },
  {
   "cell_type": "code",
   "execution_count": 53,
   "metadata": {},
   "outputs": [
    {
     "name": "stdout",
     "output_type": "stream",
     "text": [
      "I got the error.\n"
     ]
    }
   ],
   "source": [
    "import logging\n",
    "logging.basicConfig(level=logging.INFO)\n",
    "\n",
    "def foo(s):\n",
    "    n = int(s)\n",
    "    # print('>>> n = %d' % n)\n",
    "    # assert n != 0, '>>> n = %d' % n\n",
    "    logging.info('n = %d' %n)\n",
    "    return 10 / n\n",
    "\n",
    "def main():\n",
    "    try:\n",
    "        foo('0')\n",
    "    except ZeroDivisionError:\n",
    "        print('I got the error.')\n",
    "\n",
    "main()"
   ]
  },
  {
   "cell_type": "markdown",
   "metadata": {},
   "source": [
    "启动Python解释器时可以用-O参数来关闭assert，是大写英文 -O  \n",
    "python -O train.py"
   ]
  },
  {
   "cell_type": "markdown",
   "metadata": {},
   "source": [
    "#### pdb\n",
    "python -m pdb train.py  \n",
    "启动后，pdb定位到下一步要执行的代码  -> s = '0'  \n",
    "```\n",
    "注意指令 \n",
    "l --（list）显示所有代码  \n",
    "n --（next）执行下一步  \n",
    "p 变量名 --查看变量的值  \n",
    "q --（quiet）退出  \n",
    "```\n",
    "pdb.set_trace()在代码中加入指令，相当于pdb模型下的断点"
   ]
  },
  {
   "cell_type": "code",
   "execution_count": null,
   "metadata": {},
   "outputs": [],
   "source": []
  }
 ],
 "metadata": {
  "kernelspec": {
   "display_name": "Python 3",
   "language": "python",
   "name": "python3"
  },
  "language_info": {
   "codemirror_mode": {
    "name": "ipython",
    "version": 3
   },
   "file_extension": ".py",
   "mimetype": "text/x-python",
   "name": "python",
   "nbconvert_exporter": "python",
   "pygments_lexer": "ipython3",
   "version": "3.7.3"
  }
 },
 "nbformat": 4,
 "nbformat_minor": 2
}
