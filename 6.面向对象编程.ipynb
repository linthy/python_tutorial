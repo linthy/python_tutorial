{
 "cells": [
  {
   "cell_type": "markdown",
   "metadata": {},
   "source": [
    "## 面向对象编程\n",
    "1. 类和实例\n",
    "2. 访问限制\n",
    "3. 继承与多态\n",
    "4. 获取对象信息\n",
    "5. 实例属性和类属性"
   ]
  },
  {
   "cell_type": "markdown",
   "metadata": {},
   "source": [
    "数据封装、继承和多态是面向对象的三大特点"
   ]
  },
  {
   "cell_type": "markdown",
   "metadata": {},
   "source": [
    "### 1. 类（class）与实例（instance）\n",
    "类是一个抽象的模板，而实例是一个具体的对象 \n"
   ]
  },
  {
   "cell_type": "code",
   "execution_count": 1,
   "metadata": {},
   "outputs": [],
   "source": [
    "class Student(object):\n",
    "\n",
    "    def __init__(self, name, score):\n",
    "        self.name = name\n",
    "        self.score = score\n",
    "\n",
    "student_1 = Student('linthy',99)"
   ]
  },
  {
   "cell_type": "markdown",
   "metadata": {},
   "source": [
    "注意到__ __init__ __ 方法的第一个参数永远是self，表示创建的实例本身，因此，在__ __init__ __ 方法内部，就可以把各种属性绑定到self，因为self就指向创建的实例本身。  \n",
    "在创建实例的时候，就不能传入空的参数了，必须传入与__ __init__ __ 方法匹配的参数"
   ]
  },
  {
   "cell_type": "code",
   "execution_count": 4,
   "metadata": {},
   "outputs": [
    {
     "data": {
      "text/plain": [
       "'linthy'"
      ]
     },
     "execution_count": 4,
     "metadata": {},
     "output_type": "execute_result"
    }
   ],
   "source": [
    "# 继承类的属性\n",
    "student_1.name"
   ]
  },
  {
   "cell_type": "markdown",
   "metadata": {},
   "source": [
    "### 数据封装\n",
    "要访问类的内部数据，就没有必要从外面的函数去访问，可以直接在Student类的内部定义访问数据的函数。这样，就把“数据”给__封装__起来了。"
   ]
  },
  {
   "cell_type": "code",
   "execution_count": 7,
   "metadata": {},
   "outputs": [],
   "source": [
    "class Student(object):\n",
    "\n",
    "    def __init__(self, name, score):\n",
    "        self.name = name\n",
    "        self.score = score\n",
    "    # 内部访问函数\n",
    "    def print_score(self):\n",
    "        print('%s: %s' % (self.name, self.score))\n",
    "\n",
    "student_2 = Student('Michael',59)"
   ]
  },
  {
   "cell_type": "code",
   "execution_count": 9,
   "metadata": {},
   "outputs": [
    {
     "name": "stdout",
     "output_type": "stream",
     "text": [
      "Michael: 59\n"
     ]
    }
   ],
   "source": [
    "student_2.print_score()"
   ]
  },
  {
   "cell_type": "markdown",
   "metadata": {},
   "source": [
    "和静态语言不同，__Python允许对实例变量绑定任何数据__，也就是说，对于两个实例变量，虽然它们都是同一个类的不同实例，但拥有的变量名称都可能不同"
   ]
  },
  {
   "cell_type": "code",
   "execution_count": 10,
   "metadata": {},
   "outputs": [],
   "source": [
    "student_2.age = 20"
   ]
  },
  {
   "cell_type": "code",
   "execution_count": 11,
   "metadata": {},
   "outputs": [
    {
     "data": {
      "text/plain": [
       "20"
      ]
     },
     "execution_count": 11,
     "metadata": {},
     "output_type": "execute_result"
    }
   ],
   "source": [
    "student_2.age"
   ]
  },
  {
   "cell_type": "markdown",
   "metadata": {},
   "source": [
    "### 2. 访问限制\n",
    "从前面Student类的定义来看，外部代码还是可以自由地修改一个实例的name、score属性  \n",
    "如果要让内部属性不被外部访问，可以把属性的名称前加上两个下划线 __ ，在Python中，实例的变量名如果以__开头，就变成了一个私有变量（private），只有内部可以访问，外部不能访问"
   ]
  },
  {
   "cell_type": "code",
   "execution_count": 24,
   "metadata": {},
   "outputs": [],
   "source": [
    "class Student(object):\n",
    "\n",
    "    def __init__(self, name, score):\n",
    "        self.__name = name\n",
    "        self.__score = score\n",
    "\n",
    "    def print_score(self):\n",
    "        print('%s: %s' % (self.__name, self.__score))\n",
    "    \n",
    "    def get_score(self):\n",
    "        print('%s' % (self.__score))\n",
    "        \n",
    "    def set_score(self,score):\n",
    "        self.__score = score\n",
    "        \n",
    "student_3 = Student('Jake',69)"
   ]
  },
  {
   "cell_type": "code",
   "execution_count": 21,
   "metadata": {},
   "outputs": [
    {
     "name": "stdout",
     "output_type": "stream",
     "text": [
      "Jake: 69\n",
      "Jake: 69\n",
      "Michael: 59\n",
      "Michael: 99\n"
     ]
    }
   ],
   "source": [
    "student_3.print_score()\n",
    "student_3.__score = 99\n",
    "student_3.print_score()\n",
    "\n",
    "student_2.print_score()\n",
    "student_2.score = 99\n",
    "student_2.print_score()"
   ]
  },
  {
   "cell_type": "markdown",
   "metadata": {},
   "source": [
    "可以通过 get_score（）和 set_score（）来允许外部函数调用和更改内部变量  \n",
    "__需要注意的是__，在Python中，变量名类似__ __xxx__ __ 的，也就是以双下划线开头，并且以双下划线结尾的，是特殊变量，特殊变量是可以直接访问的，不是private变量，所以，不能用 __ __name__ __ 、__ __score__ __ 这样的变量名。  \n",
    "有些时候，你会看到以一个下划线开头的实例变量名，比如 _name，这样的实例变量外部是可以访问的，但是，按照约定俗成的规定，当你看到这样的变量时，意思就是，“虽然我可以被访问，但是，请把我视为私有变量，不要随意访问”。"
   ]
  },
  {
   "cell_type": "code",
   "execution_count": 29,
   "metadata": {},
   "outputs": [
    {
     "name": "stdout",
     "output_type": "stream",
     "text": [
      "Jake: 69\n",
      "LIli\n"
     ]
    }
   ],
   "source": [
    "student_3.__name = 'LIli'\n",
    "student_3.print_score()\n",
    "print(student_3.__name)"
   ]
  },
  {
   "cell_type": "markdown",
   "metadata": {},
   "source": [
    "外部代码“成功”地设置了__name变量，但实际上这个__name变量和class内部的__name变量不是一个变量！内部的__name变量已经被Python解释器自动改成了_Student__name，而外部代码给bart新增了一个__name变量。"
   ]
  },
  {
   "cell_type": "markdown",
   "metadata": {},
   "source": [
    "### 3. 继承与多态\n",
    "继承---class 子类（父类）：，子类会继承父类的所有功能（主要是内置函数）  \n",
    "子类可以基于父类的内置函数，__重写__自己的函数\n",
    "\n",
    "多态 -- 一个实例的数据类型是某个子类，那它的数据类型也可以被看做是父类。  \n",
    "class Dog(Animal):  -- Dog 是 Dog类，属于 Animal类  \n",
    "__好处__：当一个函数输入需要Animal类，那么输入多个它的不同子类，也不需要改变函数"
   ]
  },
  {
   "cell_type": "code",
   "execution_count": 36,
   "metadata": {},
   "outputs": [
    {
     "name": "stdout",
     "output_type": "stream",
     "text": [
      "Dog is running...\n",
      "Dog is running...\n",
      "Cat is running...\n",
      "Cat is running...\n",
      "Tortoise is running slowly...\n",
      "Tortoise is running slowly...\n"
     ]
    }
   ],
   "source": [
    "# run_twice 不需要改变，就能被多个类调用\n",
    "def run_twice(animal):\n",
    "    animal.run()\n",
    "    animal.run()\n",
    "\n",
    "class Animal(object):\n",
    "    def run(self):\n",
    "        print('Animal is running slowly...')\n",
    "        \n",
    "class Tortoise(Animal):\n",
    "    def run(self):\n",
    "        print('Tortoise is running slowly...')\n",
    "        \n",
    "class Dog(Animal):\n",
    "    def run(self):\n",
    "        print('Dog is running...')\n",
    "        \n",
    "class Cat(Animal):\n",
    "    def run(self):\n",
    "        print('Cat is running...')\n",
    "dog = Dog()\n",
    "cat = Cat()\n",
    "tortoise = Tortoise()\n",
    "\n",
    "run_twice(dog)\n",
    "run_twice(cat)\n",
    "run_twice(tortoise)"
   ]
  },
  {
   "cell_type": "markdown",
   "metadata": {},
   "source": [
    "### 4. 获取对象信息\n",
    "1. type(object)\n",
    "2. isinstance(object,class)\n",
    "3. dir(object) 返回对象函数的内置函数"
   ]
  },
  {
   "cell_type": "code",
   "execution_count": null,
   "metadata": {},
   "outputs": [],
   "source": []
  },
  {
   "cell_type": "markdown",
   "metadata": {},
   "source": [
    "### 5. 实例属性与类属性\n",
    "由于Python是动态语言，根据类创建的实例可以__任意绑定属性__。"
   ]
  },
  {
   "cell_type": "code",
   "execution_count": 51,
   "metadata": {},
   "outputs": [],
   "source": [
    "class Student(object):\n",
    "    def __init__(self, name):\n",
    "        self.name = name\n",
    "        \n",
    "    gender = 'male'\n",
    "\n",
    "s = Student('Bob')\n",
    "# Student 没有 score属性\n",
    "s.score = 90"
   ]
  },
  {
   "cell_type": "code",
   "execution_count": 52,
   "metadata": {},
   "outputs": [
    {
     "name": "stdout",
     "output_type": "stream",
     "text": [
      "male\n",
      "Female\n"
     ]
    }
   ],
   "source": [
    "print(s.gender)\n",
    "s.gender = 'Female'\n",
    "print(s.gender)"
   ]
  },
  {
   "cell_type": "code",
   "execution_count": 53,
   "metadata": {},
   "outputs": [
    {
     "name": "stdout",
     "output_type": "stream",
     "text": [
      "male\n"
     ]
    }
   ],
   "source": [
    "del s.gender\n",
    "print(s.gender)"
   ]
  },
  {
   "cell_type": "markdown",
   "metadata": {},
   "source": [
    "#### 练习\n",
    "为了统计学生人数，可以给Student类增加一个类属性，每创建一个实例，该属性自动增加："
   ]
  },
  {
   "cell_type": "code",
   "execution_count": 55,
   "metadata": {},
   "outputs": [
    {
     "name": "stdout",
     "output_type": "stream",
     "text": [
      "Students: 2\n",
      "测试通过!\n"
     ]
    }
   ],
   "source": [
    "class Student(object):\n",
    "    count = 0\n",
    "    \n",
    "    def __init__(self,name):\n",
    "        self.name = name\n",
    "        Student.count += 1\n",
    "\n",
    "# 测试:\n",
    "if Student.count != 0:\n",
    "    print('测试失败!')\n",
    "else:\n",
    "    bart = Student('Bart')\n",
    "    if Student.count != 1:\n",
    "        print('测试失败!')\n",
    "    else:\n",
    "        lisa = Student('Bart')\n",
    "        if Student.count != 2:\n",
    "            print('测试失败!')\n",
    "        else:\n",
    "            print('Students:', Student.count)\n",
    "            print('测试通过!')"
   ]
  },
  {
   "cell_type": "markdown",
   "metadata": {},
   "source": [
    "count 是类属性,(Student.count)，实例化的是类方法中的 self. 的属性"
   ]
  }
 ],
 "metadata": {
  "kernelspec": {
   "display_name": "Python 3",
   "language": "python",
   "name": "python3"
  },
  "language_info": {
   "codemirror_mode": {
    "name": "ipython",
    "version": 3
   },
   "file_extension": ".py",
   "mimetype": "text/x-python",
   "name": "python",
   "nbconvert_exporter": "python",
   "pygments_lexer": "ipython3",
   "version": "3.7.3"
  }
 },
 "nbformat": 4,
 "nbformat_minor": 2
}
