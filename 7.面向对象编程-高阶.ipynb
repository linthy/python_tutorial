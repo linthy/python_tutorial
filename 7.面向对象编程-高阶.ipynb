{
 "cells": [
  {
   "cell_type": "markdown",
   "metadata": {},
   "source": [
    "## 面向对象编程-高阶篇\n",
    "1. __ slots __ (插槽)\n",
    "2. 使用@property\n",
    "3. 多重继承\n",
    "4. 常用的类定义函数  \n",
    "5. 枚举类\n",
    "6. 元类"
   ]
  },
  {
   "cell_type": "markdown",
   "metadata": {},
   "source": [
    "### 1. __ slots __\n",
    "插槽函数，用来__限制__对实例的属性捆绑,也就是不能随便给实例添加属性\n",
    "\n",
    "比如，只允许对Student实例添加name和age属性。\n",
    "\n",
    "使用__ slots __ 要注意，__ slots __ 定义的属性仅对__当前类实例起作用__，对继承的子类是不起作用的"
   ]
  },
  {
   "cell_type": "code",
   "execution_count": 1,
   "metadata": {},
   "outputs": [],
   "source": [
    "class Student(object):\n",
    "    __slots__ = ('name', 'age') # 用tuple定义允许绑定的属性名称\n",
    "\n",
    "s = Student()\n",
    "s.name = 'linthy'"
   ]
  },
  {
   "cell_type": "code",
   "execution_count": 13,
   "metadata": {},
   "outputs": [],
   "source": [
    "# s.score = 99\n",
    "# 将会出现 参数错误"
   ]
  },
  {
   "cell_type": "markdown",
   "metadata": {},
   "source": [
    "### 2. @property\n",
    "类似装饰器（decorator）  \n",
    "有没有既能检查参数（实现函数功能），又可以用类似属性这样简单的方式（直接赋值）来访问类的变量呢？"
   ]
  },
  {
   "cell_type": "code",
   "execution_count": 12,
   "metadata": {},
   "outputs": [
    {
     "name": "stdout",
     "output_type": "stream",
     "text": [
      "99\n"
     ]
    }
   ],
   "source": [
    "class Student(object):\n",
    "\n",
    "    def get_score(self):\n",
    "         return self._score\n",
    "\n",
    "    def set_score(self, value):\n",
    "        if not isinstance(value, int):\n",
    "            raise ValueError('score must be an integer!')\n",
    "        if value < 0 or value > 100:\n",
    "            raise ValueError('score must between 0 ~ 100!')\n",
    "        self._score = value\n",
    "        \n",
    "s = Student()\n",
    "s.set_score(99)\n",
    "print(s.get_score())\n",
    "# 主动报错\n",
    "# s.set_score(999)"
   ]
  },
  {
   "cell_type": "markdown",
   "metadata": {},
   "source": [
    "提出问题，不要用函数，而是用属性实现。  \n",
    "还记得装饰器（decorator）可以给函数动态加上功能吗？对于类的方法，装饰器一样起作用。  \n",
    "Python内置的@property装饰器就是负责把一个方法变成属性调用的。\n",
    "\n",
    "__见练习__  \n",
    "@property的实现比较复杂，我们先考察如何使用。把一个getter方法变成属性，只需要加上@property就可以了，此时，@property本身又创建了另一个装饰器@score.setter，负责把一个setter方法变成属性赋值  \n",
    "\n",
    "注意到这个神奇的@property，我们在对实例属性操作的时候，就知道该属性很可能不是直接暴露的，而是通过getter和setter方法来实现的。\n",
    "\n",
    "\n",
    "__@property广泛应用在类的定义中，可以让调用者写出简短的代码，同时保证对参数进行必要的检查，这样，程序运行时就减少了出错的可能性。__"
   ]
  },
  {
   "cell_type": "markdown",
   "metadata": {},
   "source": [
    "### 练习\n",
    "请利用@property给一个Screen对象加上width和height属性，以及一个只读属性resolution："
   ]
  },
  {
   "cell_type": "code",
   "execution_count": 5,
   "metadata": {},
   "outputs": [
    {
     "name": "stdout",
     "output_type": "stream",
     "text": [
      "resolution = 786432\n",
      "测试通过!\n"
     ]
    }
   ],
   "source": [
    "class Screen(object):\n",
    "    @property\n",
    "    def width(self):\n",
    "        return self._width\n",
    "    @width.setter\n",
    "    def width(self,value):\n",
    "        if isinstance(value,int):\n",
    "            self._width = value\n",
    "    \n",
    "    @property\n",
    "    def height(self):\n",
    "        return self._height\n",
    "    @height.setter\n",
    "    def height(self,value):\n",
    "        if isinstance(value,int):\n",
    "            self._height = value\n",
    "    \n",
    "    @property\n",
    "    def resolution(self):\n",
    "        return self._width * self._height\n",
    " # 测试:\n",
    "s = Screen()\n",
    "s.width = 1024\n",
    "s.height = 768\n",
    "print('resolution =', s.resolution)\n",
    "if s.resolution == 786432:\n",
    "    print('测试通过!')\n",
    "else:\n",
    "    print('测试失败!')"
   ]
  },
  {
   "cell_type": "markdown",
   "metadata": {},
   "source": [
    "### 3. 多重继承\n",
    "为了给一个子类，继承更多父类的属性\n",
    "\n",
    "__继承顺序，从左到右。采用去头法，以左为最先继承。__\n",
    "具体参考：_https://www.jianshu.com/p/c9a0b055947b_"
   ]
  },
  {
   "cell_type": "code",
   "execution_count": 25,
   "metadata": {},
   "outputs": [],
   "source": [
    "class Animal(object):\n",
    "    def feature(self):\n",
    "        print('It is an animal, is nor a plane.')\n",
    "\n",
    "class Running(Animal):\n",
    "    def featurn(self):\n",
    "        print('It can run.')\n",
    "    def gender(self):\n",
    "        print('It have two gender, male or female.')\n",
    "\n",
    "class Thinking(Animal):\n",
    "    def feature(self):\n",
    "        print('It can think.')\n",
    "\n",
    "class People(Thinking, Running):\n",
    "    pass"
   ]
  },
  {
   "cell_type": "code",
   "execution_count": 36,
   "metadata": {},
   "outputs": [
    {
     "name": "stdout",
     "output_type": "stream",
     "text": [
      "(<class '__main__.People'>, <class '__main__.Thinking'>, <class '__main__.Running'>, <class '__main__.Animal'>, <class 'object'>)\n",
      "It can think.\n"
     ]
    }
   ],
   "source": [
    "ren = People()\n",
    "print(People.__mro__)\n",
    "ren.feature()"
   ]
  },
  {
   "cell_type": "markdown",
   "metadata": {},
   "source": [
    "### 4.常用类定义函数\n",
    "1. __ str __ ，用于打印函数\n",
    "2. __ iter __ , 返回迭代器，结合__ next __ 一起用\n",
    "3. __ getitem __ , 像list那样按照下标取出元素\n",
    "4. __ getattr __ , 获取类内属性，若没有返回设定值 \n",
    "5. __ call __"
   ]
  },
  {
   "cell_type": "code",
   "execution_count": 6,
   "metadata": {},
   "outputs": [],
   "source": [
    "class Student(object):\n",
    "    def __init__(self,name):\n",
    "        self.name = name\n",
    "    \n",
    "    def __str__(self):\n",
    "        return 'The student`s name is %s'% self.name\n",
    "    # 这是因为直接显示变量调用的不是__str__()，而是__repr__()，\n",
    "    # __str__()返回用户看到的字符串，而__repr__()返回程序开发者看到的字符串\n",
    "    # 这里偷懒替换一下\n",
    "    __repr__ = __str__"
   ]
  },
  {
   "cell_type": "code",
   "execution_count": 8,
   "metadata": {},
   "outputs": [
    {
     "data": {
      "text/plain": [
       "The student`s name is linthy"
      ]
     },
     "execution_count": 8,
     "metadata": {},
     "output_type": "execute_result"
    }
   ],
   "source": [
    "Student(\"linthy\")"
   ]
  },
  {
   "cell_type": "code",
   "execution_count": 30,
   "metadata": {},
   "outputs": [],
   "source": [
    "# 定义斐波那契数列Fib\n",
    "class Fib(object):\n",
    "    def __init__(self):\n",
    "        self.a, self.b = 0, 1\n",
    "    \n",
    "    def __iter__(self):\n",
    "        return self\n",
    "    \n",
    "    def __next__(self):\n",
    "        self.a, self.b = self.b, self.a + self.b\n",
    "        if self.a > 100000: # 退出循环的条件\n",
    "            raise StopIteration()\n",
    "        return self.a\n",
    "    \n",
    "    # 加入getitem\n",
    "    def __getitem__(self,n):\n",
    "        for i in range(n):\n",
    "            self.a, self.b = self.b, self.a + self.b\n",
    "        return self.a"
   ]
  },
  {
   "cell_type": "code",
   "execution_count": 37,
   "metadata": {
    "collapsed": true
   },
   "outputs": [
    {
     "name": "stdout",
     "output_type": "stream",
     "text": [
      "1\n",
      "1\n",
      "2\n",
      "3\n",
      "5\n",
      "8\n",
      "13\n",
      "21\n",
      "34\n",
      "55\n",
      "89\n",
      "144\n",
      "233\n",
      "377\n",
      "610\n",
      "987\n",
      "1597\n",
      "2584\n",
      "4181\n",
      "6765\n",
      "10946\n",
      "17711\n",
      "28657\n",
      "46368\n",
      "75025\n"
     ]
    },
    {
     "data": {
      "text/plain": [
       "(<__main__.Fib at 0x21b902bd9b0>, 89)"
      ]
     },
     "execution_count": 37,
     "metadata": {},
     "output_type": "execute_result"
    }
   ],
   "source": [
    "for i in Fib():\n",
    "    print(i)\n",
    "Fib(),Fib()[11]"
   ]
  },
  {
   "cell_type": "code",
   "execution_count": 39,
   "metadata": {},
   "outputs": [],
   "source": [
    "class Senior(Student):\n",
    "    def __init__(self,name,subject):\n",
    "        self.name = name\n",
    "        self.subject = subject\n",
    "    def __getattr__(self,attr):\n",
    "        if attr == 'age':\n",
    "            return 18"
   ]
  },
  {
   "cell_type": "markdown",
   "metadata": {},
   "source": [
    "__若要获取的属性不存在__, 系统会报错  \n",
    "要避免这个错误，除了可以加上一个score属性外，Python还有另一个机制，那就是写一个__getattr__()方法，动态返回一个属性。  \n",
    "当调用不存在的属性时，比如score，Python解释器会试图调用__getattr__(self, 'score')来尝试获得属性，这样，我们就有机会返回score的值  \n",
    "\n",
    "不单止可以返回值，还能返回函数  "
   ]
  },
  {
   "cell_type": "code",
   "execution_count": 41,
   "metadata": {},
   "outputs": [
    {
     "data": {
      "text/plain": [
       "/status/user/timeline/list"
      ]
     },
     "execution_count": 41,
     "metadata": {},
     "output_type": "execute_result"
    }
   ],
   "source": [
    "class Chain(object):\n",
    "\n",
    "    def __init__(self, path=''):\n",
    "        self._path = path\n",
    "\n",
    "    def __getattr__(self, path):\n",
    "        return Chain('%s/%s' % (self._path, path))\n",
    "\n",
    "    def __str__(self):\n",
    "        return self._path\n",
    "\n",
    "    __repr__ = __str__\n",
    "\n",
    "# 这个指令可以慢慢理解一下    \n",
    "Chain().status.user.timeline.list"
   ]
  },
  {
   "cell_type": "markdown",
   "metadata": {},
   "source": [
    "#### Chain().status.user.timeline.list\n",
    "urls = Chain()    # 初始化一个实例   \n",
    "urls = urls.users    # 查找实例的一个属性  \n",
    "urls = urls('michael)    # 调用一个函数  \n",
    "urls = urls.repos    # 还是实例的属性  "
   ]
  },
  {
   "cell_type": "markdown",
   "metadata": {},
   "source": [
    "### 5. 枚举类\n",
    "为了避免全局常量被改动，定义一个class类型的枚举类，然后，每个常量都是class的一个唯一实例"
   ]
  },
  {
   "cell_type": "code",
   "execution_count": 46,
   "metadata": {},
   "outputs": [],
   "source": [
    "from enum import Enum\n",
    "\n",
    "Month = Enum('Month',('Jan','Feb','Mar','Apr','May','Jun','Jul','Aug','Sep','Oct','Nov','Dec'))\n"
   ]
  },
  {
   "cell_type": "code",
   "execution_count": 58,
   "metadata": {
    "collapsed": true
   },
   "outputs": [
    {
     "name": "stdout",
     "output_type": "stream",
     "text": [
      "odict_items([('Jan', <month.Jan: 1>), ('Feb', <month.Feb: 2>), ('Mar', <month.Mar: 3>), ('Apr', <month.Apr: 4>), ('May', <month.May: 5>), ('Jun', <month.Jun: 6>), ('Jul', <month.Jul: 7>), ('Aug', <month.Aug: 8>), ('Sep', <month.Sep: 9>), ('Oct', <month.Oct: 10>), ('Nov', <month.Nov: 11>), ('Dec', <month.Dec: 12>)])\n",
      "Jan => month.Jan , 1\n",
      "Feb => month.Feb , 2\n",
      "Mar => month.Mar , 3\n",
      "Apr => month.Apr , 4\n",
      "May => month.May , 5\n",
      "Jun => month.Jun , 6\n",
      "Jul => month.Jul , 7\n",
      "Aug => month.Aug , 8\n",
      "Sep => month.Sep , 9\n",
      "Oct => month.Oct , 10\n",
      "Nov => month.Nov , 11\n",
      "Dec => month.Dec , 12\n"
     ]
    }
   ],
   "source": [
    "print(Month.__members__.items())\n",
    "# value属性则是自动赋给成员的int常量，默认从1开始计数。\n",
    "\n",
    "for name, member in Month.__members__.items():\n",
    "    print(name, '=>', member, ',', member.value)"
   ]
  },
  {
   "cell_type": "markdown",
   "metadata": {},
   "source": [
    "如果需要更精确地控制枚举类型，可以从Enum派生出自定义类："
   ]
  },
  {
   "cell_type": "code",
   "execution_count": 59,
   "metadata": {},
   "outputs": [],
   "source": [
    "from enum import Enum, unique\n",
    "\n",
    "#装饰器可以帮助我们检查保证没有重复值。\n",
    "@unique\n",
    "class Weekday(Enum):\n",
    "    Sun = 0 # Sun的value被设定为0\n",
    "    Mon = 1\n",
    "    Tue = 2\n",
    "    Wed = 3\n",
    "    Thu = 4\n",
    "    Fri = 5\n",
    "    Sat = 6"
   ]
  },
  {
   "cell_type": "code",
   "execution_count": 61,
   "metadata": {},
   "outputs": [
    {
     "data": {
      "text/plain": [
       "odict_items([('Sun', <Weekday.Sun: 0>), ('Mon', <Weekday.Mon: 1>), ('Tue', <Weekday.Tue: 2>), ('Wed', <Weekday.Wed: 3>), ('Thu', <Weekday.Thu: 4>), ('Fri', <Weekday.Fri: 5>), ('Sat', <Weekday.Sat: 6>)])"
      ]
     },
     "execution_count": 61,
     "metadata": {},
     "output_type": "execute_result"
    }
   ],
   "source": [
    "Weekday.__members__.items()"
   ]
  },
  {
   "cell_type": "markdown",
   "metadata": {},
   "source": [
    "#### 练习\n",
    "把Student的gender属性改造为枚举类型，可以避免使用字符串："
   ]
  },
  {
   "cell_type": "code",
   "execution_count": 75,
   "metadata": {},
   "outputs": [
    {
     "name": "stdout",
     "output_type": "stream",
     "text": [
      "测试通过!\n"
     ]
    }
   ],
   "source": [
    "class Student(object):\n",
    "    def __init__(self,name,gender):\n",
    "        self._name = name\n",
    "        self._gender = gender\n",
    "    \n",
    "    @property\n",
    "    def name(self):\n",
    "        return self._name\n",
    "    \n",
    "    @name.setter\n",
    "    def name(self,name):\n",
    "        self._name = name\n",
    "    @property\n",
    "    def gender(self):\n",
    "        return self._gender\n",
    "    \n",
    "    @gender.setter\n",
    "    def gender(self,value):\n",
    "        if isinstance(value, Gender):\n",
    "            self._gender = value\n",
    "        raise \"The gender is error\"\n",
    "    \n",
    "from enum import Enum, unique\n",
    "@unique\n",
    "class Gender(Enum):\n",
    "    Male = 0\n",
    "    Female = 1\n",
    "\n",
    "# 测试:\n",
    "bart = Student('Bart', Gender.Male)\n",
    "if bart.gender == Gender.Male:\n",
    "    print('测试通过!')\n",
    "else:\n",
    "    print('测试失败!')"
   ]
  },
  {
   "cell_type": "code",
   "execution_count": 74,
   "metadata": {},
   "outputs": [
    {
     "data": {
      "text/plain": [
       "<Gender.Male: 0>"
      ]
     },
     "execution_count": 74,
     "metadata": {},
     "output_type": "execute_result"
    }
   ],
   "source": [
    "bart.gender\n"
   ]
  },
  {
   "cell_type": "markdown",
   "metadata": {},
   "source": [
    "### 使用元类\n",
    "动态语言和静态语言最大的不同，就是函数和类的定义，不是编译时定义的，而是运行时动态创建的。\n",
    "\n",
    "除了使用type()动态创建类以外，要控制类的创建行为，还可以使用metaclass。  \n",
    "\n",
    "metaclass，直译为元类"
   ]
  },
  {
   "cell_type": "markdown",
   "metadata": {},
   "source": [
    "当我们定义了类以后，就可以根据这个类创建出实例，所以：先定义类，然后创建实例。\n",
    "\n",
    "但是如果我们想创建出类呢？那就必须根据metaclass创建出类，所以：先定义metaclass，然后创建类。\n",
    "\n",
    "连接起来就是：先定义metaclass，就可以创建类，最后创建实例。\n",
    "\n",
    "所以，metaclass允许你创建类或者修改类。换句话说，你可以把类看成是metaclass创建出来的“实例”。\n",
    "\n",
    "metaclass是Python面向对象里最难理解，也是最难使用的魔术代码。正常情况下，你不会碰到需要使用metaclass的情况，所以，以下内容看不懂也没关系，因为基本上你不会用到。\n",
    "\n",
    "### 先跳过这个知识点"
   ]
  },
  {
   "cell_type": "code",
   "execution_count": null,
   "metadata": {},
   "outputs": [],
   "source": []
  }
 ],
 "metadata": {
  "kernelspec": {
   "display_name": "Python 3",
   "language": "python",
   "name": "python3"
  },
  "language_info": {
   "codemirror_mode": {
    "name": "ipython",
    "version": 3
   },
   "file_extension": ".py",
   "mimetype": "text/x-python",
   "name": "python",
   "nbconvert_exporter": "python",
   "pygments_lexer": "ipython3",
   "version": "3.7.3"
  }
 },
 "nbformat": 4,
 "nbformat_minor": 2
}
