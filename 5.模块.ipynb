{
 "cells": [
  {
   "cell_type": "markdown",
   "metadata": {},
   "source": [
    "## 模块\n",
    "1. __程序标准化__  \n",
    "  作用域\n",
    "2. __程序调用__"
   ]
  },
  {
   "cell_type": "markdown",
   "metadata": {},
   "source": [
    "### 1. 程序标准化步骤\n",
    "先写声明  \n",
    "模块信息  \n",
    "函数定义   \n",
    "主程序声明  "
   ]
  },
  {
   "cell_type": "code",
   "execution_count": 1,
   "metadata": {},
   "outputs": [],
   "source": [
    "#!/usr/bin/env python3\n",
    "#-*- coding = utf-8 -*-\n",
    "\n",
    "\n",
    "'This is module is used to watch.'\n",
    "__author__ = 'linthy'\n",
    "\n",
    "def function():\n",
    "    pass\n",
    "\n",
    "if __name__ == '__main__':\n",
    "    function()"
   ]
  },
  {
   "cell_type": "markdown",
   "metadata": {},
   "source": [
    "#### 作用域\n",
    "在一个模块中，我们可能会定义很多函数和变量，但有的函数和变量我们希望给别人使用，有的函数和变量我们希望仅仅在模块内部使用。  \n",
    "在Python中，是通过 _ 前缀来实现的。\n",
    "\n",
    "__还需注意一点__  \n",
    "变量和函数并没有本质区别，函数名就是变量  \n",
    "在主文件定义一个全局变量，不传参的情况下如何让其他模块\n",
    "\n",
    "import hello\n",
    "hello.test() # test是hello模块的一个函数\n",
    "\n",
    "hello.new_var # new_var是hello模块的一个变量"
   ]
  },
  {
   "cell_type": "markdown",
   "metadata": {},
   "source": [
    "### 2.安装第三方包与调用\n",
    "模块搜索路径，两种方法\n",
    "1. sys.path.append()\n",
    "2. 第二种方法是设置环境变量PYTHONPATH，该环境变量的内容会被自动添加到模块搜索路径中。"
   ]
  },
  {
   "cell_type": "code",
   "execution_count": null,
   "metadata": {},
   "outputs": [],
   "source": [
    "模块搜索路径"
   ]
  }
 ],
 "metadata": {
  "kernelspec": {
   "display_name": "Python 3",
   "language": "python",
   "name": "python3"
  },
  "language_info": {
   "codemirror_mode": {
    "name": "ipython",
    "version": 3
   },
   "file_extension": ".py",
   "mimetype": "text/x-python",
   "name": "python",
   "nbconvert_exporter": "python",
   "pygments_lexer": "ipython3",
   "version": "3.7.3"
  }
 },
 "nbformat": 4,
 "nbformat_minor": 2
}
